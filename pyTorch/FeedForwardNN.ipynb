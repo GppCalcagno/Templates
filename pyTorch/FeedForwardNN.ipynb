{
 "cells": [
  {
   "cell_type": "markdown",
   "id": "c683b9f4",
   "metadata": {},
   "source": [
    "# Simple Neural Network Template\n",
    "Goal of this notebook is to avoid rewrinting code for Neural Networks with tabular data\n"
   ]
  },
  {
   "cell_type": "code",
   "execution_count": null,
   "id": "552b3393",
   "metadata": {},
   "outputs": [],
   "source": [
    "import torch\n",
    "import torch.nn as nn\n",
    "import torch.optim as optim\n",
    "from torch.utils.data import DataLoader, TensorDataset\n",
    "\n",
    "import matplotlib.pyplot as plt\n",
    "from torchinfo import summary\n",
    "\n",
    "import pandas as pd\n",
    "import numpy as np\n",
    "\n",
    "from sklearn.preprocessing import StandardScaler\n",
    "from sklearn.model_selection import train_test_split\n",
    "\n",
    "\n",
    "from tqdm import tqdm"
   ]
  },
  {
   "cell_type": "code",
   "execution_count": 4,
   "id": "7b2f5e7b",
   "metadata": {},
   "outputs": [
    {
     "data": {
      "text/plain": [
       "device(type='cuda')"
      ]
     },
     "execution_count": 4,
     "metadata": {},
     "output_type": "execute_result"
    }
   ],
   "source": [
    "device = torch.device('cuda' if torch.cuda.is_available() else 'cpu')\n",
    "device"
   ]
  },
  {
   "cell_type": "markdown",
   "id": "e4b9f1c2",
   "metadata": {},
   "source": [
    "# Prepare The dataset"
   ]
  },
  {
   "cell_type": "markdown",
   "id": "0fd88057",
   "metadata": {},
   "source": [
    "## Data Loading and Split"
   ]
  },
  {
   "cell_type": "code",
   "execution_count": 5,
   "id": "b5dd7e6f",
   "metadata": {},
   "outputs": [
    {
     "data": {
      "text/html": [
       "<div>\n",
       "<style scoped>\n",
       "    .dataframe tbody tr th:only-of-type {\n",
       "        vertical-align: middle;\n",
       "    }\n",
       "\n",
       "    .dataframe tbody tr th {\n",
       "        vertical-align: top;\n",
       "    }\n",
       "\n",
       "    .dataframe thead th {\n",
       "        text-align: right;\n",
       "    }\n",
       "</style>\n",
       "<table border=\"1\" class=\"dataframe\">\n",
       "  <thead>\n",
       "    <tr style=\"text-align: right;\">\n",
       "      <th></th>\n",
       "      <th>f1</th>\n",
       "      <th>f2</th>\n",
       "      <th>f3</th>\n",
       "      <th>y</th>\n",
       "    </tr>\n",
       "  </thead>\n",
       "  <tbody>\n",
       "    <tr>\n",
       "      <th>0</th>\n",
       "      <td>1</td>\n",
       "      <td>96</td>\n",
       "      <td>12</td>\n",
       "      <td>7</td>\n",
       "    </tr>\n",
       "    <tr>\n",
       "      <th>1</th>\n",
       "      <td>24</td>\n",
       "      <td>99</td>\n",
       "      <td>88</td>\n",
       "      <td>10</td>\n",
       "    </tr>\n",
       "    <tr>\n",
       "      <th>2</th>\n",
       "      <td>96</td>\n",
       "      <td>45</td>\n",
       "      <td>85</td>\n",
       "      <td>38</td>\n",
       "    </tr>\n",
       "    <tr>\n",
       "      <th>3</th>\n",
       "      <td>56</td>\n",
       "      <td>45</td>\n",
       "      <td>32</td>\n",
       "      <td>34</td>\n",
       "    </tr>\n",
       "    <tr>\n",
       "      <th>4</th>\n",
       "      <td>72</td>\n",
       "      <td>99</td>\n",
       "      <td>90</td>\n",
       "      <td>5</td>\n",
       "    </tr>\n",
       "  </tbody>\n",
       "</table>\n",
       "</div>"
      ],
      "text/plain": [
       "   f1  f2  f3   y\n",
       "0   1  96  12   7\n",
       "1  24  99  88  10\n",
       "2  96  45  85  38\n",
       "3  56  45  32  34\n",
       "4  72  99  90   5"
      ]
     },
     "execution_count": 5,
     "metadata": {},
     "output_type": "execute_result"
    }
   ],
   "source": [
    "# Use a random df instead of df = pd.read_csv(\"\") \n",
    "df = pd.DataFrame(np.random.randint(0,100,size=(1000, 4)), columns=[\"f1\",\"f2\",\"f3\",\"y\"])\n",
    "\n",
    "# list of columns used as features and as target\n",
    "feaures = [\"f1\",\"f2\",\"f3\"]\n",
    "target = [\"y\"]\n",
    "\n",
    "df.head()\n"
   ]
  },
  {
   "cell_type": "code",
   "execution_count": 6,
   "id": "3b1e7982",
   "metadata": {},
   "outputs": [
    {
     "name": "stdout",
     "output_type": "stream",
     "text": [
      "Shape of the training feature set:\t (700, 3)\n",
      "Shape of the training target set:\t (300, 1)\n"
     ]
    }
   ],
   "source": [
    "# if needed, spit the data into train\\validation and test set\n",
    "features = df[feaures].values\n",
    "targets = df[target].values\n",
    "\n",
    "# Split the dataset into training and temp sets (85% train, 15% temp)\n",
    "features_train, features_temp, targets_train, targets_temp = train_test_split(\n",
    "    features, targets, test_size=0.3, random_state=0\n",
    ")\n",
    "\n",
    "# Further split the temp set into validation and test sets \n",
    "features_val, features_test, targets_val, targets_test = train_test_split(\n",
    "    features_temp, targets_temp, test_size=0.5, random_state=0\n",
    ")\n",
    "\n",
    "# Note that from now we are using numpy array of dimension (sample, features) \n",
    "print(f\"Shape of the training feature set:\\t {features_train.shape}\")\n",
    "print(f\"Shape of the training target set:\\t {targets_temp.shape}\")\n"
   ]
  },
  {
   "cell_type": "markdown",
   "id": "65ac5adb",
   "metadata": {},
   "source": [
    "## Scaling"
   ]
  },
  {
   "cell_type": "markdown",
   "id": "4d040449",
   "metadata": {},
   "source": [
    "Scaling is important for NN traing:\n",
    "- NN are trained with gradient-based optimization. If input features have very different ranges (e.g., one is in [0,1], another in [0,1000]), the gradients become unbalanced\n",
    "- Weights are usually initialized with small random values. If inputs vary a lot in scale, some neurons saturate (e.g., sigmoid stuck at 0 or 1), killing gradients.\n",
    "- A feature with large values might artificially look more important, skewing learning.\n",
    "\n",
    "Here the most common methods from sklearn: \n",
    "| Method         | Formula                  | Best For                        | Sensitive to Outliers |\n",
    "|----------------|--------------------------|---------------------------------|-----------------------|\n",
    "| StandardScaler | (x - μ) / σ             | General NN input, Gaussian data |  Yes                |\n",
    "| MinMaxScaler   | (x - min) / (max - min) | Images, bounded features        |  Yes                |\n",
    "| RobustScaler   | (x - median) / IQR      | Skewed data, outliers present   |  No                 |\n",
    "| MaxAbsScaler   | x / max(abs(x))         | Sparse data, [-1,1] scaling     |  Yes                |\n",
    "\n",
    "For sake of semplicity:\n",
    "\n",
    "- Images → MinMax (0–1)\n",
    "- General tabular → StandardScaler\n",
    "- Outlier-heavy data → RobustScaler"
   ]
  },
  {
   "cell_type": "code",
   "execution_count": 7,
   "id": "a0aa0565",
   "metadata": {},
   "outputs": [],
   "source": [
    "scaler = StandardScaler()\n",
    "# remember to fit only of training data\n",
    "scaler.fit(features_train) \n",
    "\n",
    "# Transform the training, validation, and test sets\n",
    "features_train = scaler.transform(features_train)\n",
    "features_val = scaler.transform(features_val)\n",
    "features_test = scaler.transform(features_test)"
   ]
  },
  {
   "cell_type": "markdown",
   "id": "8e731e2b",
   "metadata": {},
   "source": [
    "## DataSet & DataLoader"
   ]
  },
  {
   "cell_type": "markdown",
   "id": "3979d028",
   "metadata": {},
   "source": [
    "In PyTorch, data handling is split into two complementary abstractions. A Dataset defines what the data is and how to access a single sample, while a DataLoader defines how to efficiently serve that data to a model in batches. This separation allows you to keep the logic of accessing data independent from the logic of batching, shuffling, and parallelizing.\n",
    "\n",
    "**Dataset**: defines the data access pattern.\n",
    "- Implements __getitem__(index) → returns a single (features, target) pair.\n",
    "- Implements __len__() → reports dataset size (for map-style datasets).\n",
    "- Can be map-style (random access) or iterable (streaming).\n",
    "\n",
    "**DataLoader**: orchestrates data delivery.\n",
    "- Wraps a Dataset and produces mini-batches.\n",
    "- Handles shuffling, parallel sample loading (num_workers), and batch collation into tensors.\n",
    "- Provides an iterator over batches, enabling efficient training loops."
   ]
  },
  {
   "cell_type": "markdown",
   "id": "cb8dd8d2",
   "metadata": {},
   "source": [
    "For tabular data, we have 2 possible options for the creation of the dataset.\n",
    "\n",
    "\n",
    "* **Custom Dataset** ([docs](https://docs.pytorch.org/tutorials/beginner/basics/data_tutorial.html))\n",
    "    - subclass `torch.utils.data.Dataset` and must implement `__len__` / `__getitem__`.\n",
    "    -  Flexible: supports preprocessing (scaling, encoding, imputation), lazy loading from disk, and any custom logic for accessing samples.\n",
    "    - Needed for non-ram fitting dataset\n",
    "* **`TensorDataset`** – lightweight wrapper around `(X_tensor, y_tensor)` when data is already preprocessed and fits in memory. \n",
    "    -  Minimal boilerplate, but no support for on-the-fly transforms or complex loading.\n",
    "\n",
    "\n",
    "Would you like me to now provide **minimal code examples** for both in the same format (so you can compare side by side)?\n",
    "\n"
   ]
  },
  {
   "cell_type": "code",
   "execution_count": 8,
   "id": "e659575a",
   "metadata": {},
   "outputs": [],
   "source": [
    "train_dataset = TensorDataset(torch.Tensor(features_train), torch.Tensor(targets_train))\n",
    "val_dataset = TensorDataset(torch.Tensor(features_val), torch.Tensor(targets_val))\n",
    "\n",
    "\n",
    "BATCH_SIZE = 32\n",
    "# Create DataLoaders for training, validation, and testing sets\n",
    "train_loader = DataLoader(train_dataset, batch_size=BATCH_SIZE, shuffle=True)\n",
    "val_loader = DataLoader(val_dataset, batch_size=BATCH_SIZE, shuffle=False)\n"
   ]
  },
  {
   "cell_type": "markdown",
   "id": "502b40c4",
   "metadata": {},
   "source": [
    "# Your Neural network"
   ]
  },
  {
   "cell_type": "markdown",
   "id": "7aec5115",
   "metadata": {},
   "source": [
    "## Define It"
   ]
  },
  {
   "cell_type": "markdown",
   "id": "788d7554",
   "metadata": {},
   "source": [
    "When creating a custom neural network by subclassing `nn.Module`, the class typically includes **required components** and **optional but common patterns**.\n",
    "\n",
    "### Required Components\n",
    "- **`__init__(self, ...)`**  \n",
    "  - Purpose: define all layers and components of the network.  \n",
    "  - Must call `super().__init__()` at the beginning.  \n",
    "  - Typical layers: `nn.Linear`, `nn.Conv2d`, `nn.ReLU`, `nn.BatchNorm1d`, `nn.Dropout`.\n",
    "\n",
    "- **`forward(self, x)`**  \n",
    "  - Purpose: defines the computation of the network, i.e., how the input `x` is transformed into the output.  \n",
    "  - Must return a tensor.  \n",
    "  - **Do not call this directly**; PyTorch internally calls it when you execute `model(input)`.\n",
    "\n",
    "\n",
    ")Pay Attention): In theory, the last layer of a neural network should include an activation function during inference to produce probabilities or bounded outputs. However, most PyTorch loss functions (e.g., `BCEWithLogitsLoss`, `CrossEntropyLoss`) apply these activations internally for numerical stability and efficiency. Therefore, when defining the network for training, the final activation should not be included in the model. It can then be applied separately during inference.\n",
    "\n",
    "> **Note:** Sometimes tutorials or projects define an `inference` or `predict` method. This is **not required** by PyTorch; it’s just a convenience wrapper that calls `forward` (often with `torch.no_grad()` for evaluation) to separate training vs prediction logic.\n",
    "\n",
    "\n",
    "\n",
    "\n",
    "### Possible Improvements\n",
    "\n",
    "- **Deeper / Wider Layers**: increase representational capacity.  \n",
    "- **Regularization**: dropout and batch normalization for stability and generalization.  \n",
    "- **Custom Activations**: ReLU, LeakyReLU, GELU, SiLU.  \n",
    "- **Residual Connections**: optionally add transformed inputs to intermediate layers.  \n",
    "- **Weight Initialization**: e.g., Kaiming for ReLU, Xavier for Sigmoid/Tanh.  \n",
    "- **Output Layer**: adapt with Sigmoid/Softmax depending on task.  \n",
    "- **Optimizer & Scheduler**: Adam, SGD+momentum, learning rate scheduling.  \n",
    "- **Input Preprocessing**: standardization, normalization, categorical encoding for tabular data.\n"
   ]
  },
  {
   "cell_type": "code",
   "execution_count": 55,
   "id": "39b143ef",
   "metadata": {},
   "outputs": [],
   "source": [
    "class NeuralNetwork(nn.Module):\n",
    "    def __init__(self, input_dim,drop_out_par):\n",
    "        super().__init__()\n",
    "        \n",
    "        # Flatten input self.flatten = nn.Flatten()\n",
    "        \n",
    "        # Optional residual: projects input to match first hidden layer\n",
    "        self.residual = nn.Linear(input_dim, 256)\n",
    "\n",
    "        # Feature extraction\n",
    "        self.features_extraction = nn.Sequential(\n",
    "            nn.Linear(input_dim, 64),\n",
    "            nn.ReLU(),                          # Can switch to LeakyReLU, GELU, SiLU\n",
    "            nn.BatchNorm1d(64),                 # Optional batch normalization\n",
    "            nn.Dropout(drop_out_par),           # Optional dropout for regularization\n",
    "\n",
    "            nn.Linear(64, 128),\n",
    "            nn.ReLU(),\n",
    "            nn.BatchNorm1d(128),\n",
    "            nn.Dropout(drop_out_par),\n",
    "\n",
    "            nn.Linear(128, 256),\n",
    "            nn.ReLU(),\n",
    "            nn.BatchNorm1d(256),\n",
    "            nn.Dropout(drop_out_par)\n",
    "        )\n",
    "\n",
    "        # Head (output)\n",
    "        self.head = nn.Sequential(\n",
    "            nn.Linear(256, 1) \n",
    "         ) \n",
    "        \n",
    "        # Weight initialization hint\n",
    "        # nn.init.kaiming_uniform_(self.features_extraction[0].weight, nonlinearity='relu')\n",
    "\n",
    "    def forward(self, x):\n",
    "        #x = self.flatten(x)\n",
    "        \n",
    "        # Residual connection: add projected input to first hidden layer output\n",
    "        res = self.residual(x)\n",
    "\n",
    "        features = self.features_extraction(x)\n",
    "        \n",
    "        features = features + res  # simple residual addition\n",
    "\n",
    "        # Output\n",
    "        logits = self.head(features)\n",
    "        return logits\n"
   ]
  },
  {
   "cell_type": "code",
   "execution_count": 56,
   "id": "9bccca72",
   "metadata": {},
   "outputs": [
    {
     "data": {
      "text/plain": [
       "==========================================================================================\n",
       "Layer (type:depth-idx)                   Output Shape              Param #\n",
       "==========================================================================================\n",
       "NeuralNetwork                            [1, 1]                    --\n",
       "├─Linear: 1-1                            [1, 256]                  1,024\n",
       "├─Sequential: 1-2                        [1, 256]                  --\n",
       "│    └─Linear: 2-1                       [1, 64]                   256\n",
       "│    └─ReLU: 2-2                         [1, 64]                   --\n",
       "│    └─BatchNorm1d: 2-3                  [1, 64]                   128\n",
       "│    └─Dropout: 2-4                      [1, 64]                   --\n",
       "│    └─Linear: 2-5                       [1, 128]                  8,320\n",
       "│    └─ReLU: 2-6                         [1, 128]                  --\n",
       "│    └─BatchNorm1d: 2-7                  [1, 128]                  256\n",
       "│    └─Dropout: 2-8                      [1, 128]                  --\n",
       "│    └─Linear: 2-9                       [1, 256]                  33,024\n",
       "│    └─ReLU: 2-10                        [1, 256]                  --\n",
       "│    └─BatchNorm1d: 2-11                 [1, 256]                  512\n",
       "│    └─Dropout: 2-12                     [1, 256]                  --\n",
       "├─Sequential: 1-3                        [1, 1]                    --\n",
       "│    └─Linear: 2-13                      [1, 1]                    257\n",
       "==========================================================================================\n",
       "Total params: 43,777\n",
       "Trainable params: 43,777\n",
       "Non-trainable params: 0\n",
       "Total mult-adds (M): 0.04\n",
       "==========================================================================================\n",
       "Input size (MB): 0.00\n",
       "Forward/backward pass size (MB): 0.01\n",
       "Params size (MB): 0.18\n",
       "Estimated Total Size (MB): 0.18\n",
       "=========================================================================================="
      ]
     },
     "execution_count": 56,
     "metadata": {},
     "output_type": "execute_result"
    }
   ],
   "source": [
    "# remember that the features sets are composed by (n_sample,n_features). So a sample is a vector of n_featues elements. \n",
    "input_dim = features_train.shape[1]\n",
    "drop_out_par = 0.1\n",
    "\n",
    "model = NeuralNetwork(input_dim,drop_out_par)\n",
    "summary(model, input_size=(1, input_dim))\n"
   ]
  },
  {
   "cell_type": "markdown",
   "id": "03bf5e39",
   "metadata": {},
   "source": [
    "## Train It"
   ]
  },
  {
   "cell_type": "markdown",
   "id": "ff577c9f",
   "metadata": {},
   "source": [
    "**Loss Function**\n",
    "The loss function quantifies the error between model predictions and target values.\n",
    "It returns a scalar value, which is then used to compute gradients via backpropagation.\n",
    "Important: some loss functions expect raw logits (unactivated outputs), while others require the final activation applied in the network.\n",
    "\n",
    "* **Mean Squared Error (`nn.MSELoss`)**: Computes the **average squared difference** between predicted and target values. Penalizes large errors more strongly due to squaring. Typically slower convergence compared to L1 if outliers dominate, but smoother gradient. Expects raw continuous outputs (no activation at the end).\n",
    "  * *Typical use case*: regression problems where large deviations should be penalized heavily (e.g., predicting house prices, forecasting continuous values).\n",
    "\n",
    "\n",
    "* **Mean Absolute Error (`nn.L1Loss`)**: Computes the **average absolute difference** between predicted and target values. Linear penalty → more **robust to outliers** than MSE. Gradient is constant (±1), which may slow training convergence compared to MSE. Expects raw continuous outputs.\n",
    "  * *Typical use case*: regression tasks where robustness to outliers is important (e.g., predicting median income, noisy sensor data).\n",
    "\n",
    "* **Cross Entropy (`nn.CrossEntropyLoss`)**: Combines `LogSoftmax` + `NLLLoss` in one operation. Calculates negative log-likelihood of the correct class. Expects raw logits (no softmax at the end).\n",
    "  * *Typical use case*: multi-class classification (e.g., image classification into multiple categories).\n",
    "\n",
    "* **Binary Cross Entropy with Logits (`nn.BCEWithLogitsLoss`)**: Applies sigmoid internally + BCE in a numerically stable way. Measures dissimilarity between predicted probability and target (0 or 1). Expects raw logits (no sigmoid at the end).\n",
    "  * *Typical use case*: binary classification (spam detection, fraud detection) or multi-label classification (an image can contain multiple objects).\n",
    "\n",
    "* **Binary Cross Entropy (`nn.BCELoss`)**: Same calculation as BCEWithLogits but without the sigmoid inside. Less numerically stable due to separate sigmoid + BCE. Expects outputs already passed through a sigmoid.\n",
    "  * *Typical use case*: legacy binary classification pipelines where sigmoid is explicitly applied in the model.\n",
    "\n",
    "* **Negative Log Likelihood (`nn.NLLLoss`)**: Computes the log-likelihood of the correct class. Requires `LogSoftmax` applied in the final layer of the network.\n",
    "  * *Typical use case*: classification tasks with explicit log-probabilities (e.g., language models where softmax is computed separately).\n",
    "\n",
    "* **Huber Loss (`nn.HuberLoss`)**: Combines L1 and MSE: Reduces sensitivity to outliers compared to MSE while keeping smooth gradients near zero. Expects raw continuous outputs.\n",
    "    * For small errors → behaves like MSE (squared). \n",
    "    * For large errors → behaves like L1 (linear).\n",
    "  * *Typical use case*: regression tasks with outliers but where you still want smooth optimization (e.g., robust regression in finance or sensor data).\n",
    "\n",
    "\n",
    "\n",
    "\n",
    "\n",
    "\n",
    "\n"
   ]
  },
  {
   "cell_type": "markdown",
   "id": "de8dfb3f",
   "metadata": {},
   "source": [
    "**Optimizer**\n",
    "\n",
    "The optimizer updates the model’s parameters using the gradients computed during backpropagation.\n",
    "Different optimizers implement variations of gradient descent with improvements like momentum, adaptive learning rates, or weight decay.\n",
    "Choice of optimizer influences convergence speed and model generalization.\n",
    "\n",
    "* **Stochastic Gradient Descent (`optim.SGD`)**\n",
    "\n",
    "  * Updates parameters by moving them in the opposite direction of the gradient.\n",
    "  * Often combined with **momentum** to smooth updates and avoid oscillations.\n",
    "  * Simple and efficient, but may converge slowly without scheduling.\n",
    "  * *Typical use case*: large-scale classification (e.g., ImageNet training), where SGD + momentum + learning rate scheduler yields strong generalization.\n",
    "\n",
    "* **Adam (`optim.Adam`)**\n",
    "  * Adaptive Moment Estimation: combines **momentum** (moving average of gradients) and **per-parameter adaptive learning rates**.\n",
    "  * Converges faster and requires less tuning than SGD.\n",
    "  * May overfit or generalize worse than SGD in some vision tasks.\n",
    "  * *Typical use case*: general-purpose optimizer, especially for NLP, tabular data, or when fast prototyping is needed.\n",
    "\n",
    "\n",
    "* **RMSprop (`optim.RMSprop`)**\n",
    "\n",
    "  * Uses moving average of squared gradients to adapt learning rates per parameter.\n",
    "  * Helps stabilize training of models with non-stationary objectives.\n",
    "  * Similar to Adam but simpler (no momentum on the gradient mean).\n",
    "  * *Typical use case*: recurrent neural networks (RNNs), reinforcement learning.\n",
    "\n",
    "* **Adagrad (`optim.Adagrad`)**\n",
    "\n",
    "  * Increases learning rate adaptivity by scaling updates inversely to the sum of past squared gradients.\n",
    "  * Effective for sparse data, but learning rates can shrink too much over time.\n",
    "  * *Typical use case*: NLP tasks with sparse features (e.g., word embeddings, text classification).\n",
    "\n",
    "* **Adadelta (`optim.Adadelta`)**\n",
    "\n",
    "  * Extension of Adagrad that reduces the aggressive decrease in learning rates.\n",
    "  * Keeps learning rates more stable across training.\n",
    "  * *Typical use case*: tasks similar to Adagrad but where long training is required without decayed learning rate collapse.\n"
   ]
  },
  {
   "cell_type": "code",
   "execution_count": 57,
   "id": "7761aa60",
   "metadata": {},
   "outputs": [],
   "source": [
    "LR = 1e-3\n",
    "loss_fn = nn.MSELoss()\n",
    "optimizer = optim.Adam(model.parameters(), lr=LR)"
   ]
  },
  {
   "cell_type": "markdown",
   "id": "c3442db1",
   "metadata": {},
   "source": [
    " Each training epoch typically alternates between **training** and **validation** phases ([Source](https://docs.pytorch.org/tutorials/beginner/basics/optimization_tutorial.html))\n",
    "\n",
    "**Training Phase**\n",
    "\n",
    "* Call `model.train()` to enable training mode, this enable the traking of the tensor operations to compute the gradient.\n",
    "* Loop over `train_loader` batches.\n",
    "    * Move data to device (CPU/GPU) → `inputs, labels = inputs.to(device), labels.to(device)`\n",
    "    * Zero out previous gradients → `optimizer.zero_grad()` to prevents gradient accumulation across batches.\n",
    "    * Perform forward pass `outputs = model(inputs)` \n",
    "    * Compute `loss = criterion(outputs, labels)`and update paramenters `optimizer.step()`\n",
    "    * Optionally log training loss to monitor progress `scheduler.step()`\n",
    "\n",
    "**Validation Phase**\n",
    "\n",
    "* Call `model.eval()` to switch to evaluation mode.\n",
    "* Wrap the loop in `torch.no_grad()` to disable gradient tracking.\n",
    "* Loop over `val_loader` batches.\n"
   ]
  },
  {
   "cell_type": "code",
   "execution_count": 58,
   "id": "cae00b56",
   "metadata": {},
   "outputs": [],
   "source": [
    "# parameters \n",
    "EPOCHS = 100\n",
    "patience,best_val_loss = 10, float(\"inf\") # 0 to disable early stopping\n",
    "scheduler = None  # e.g., ReduceLROnPlateau(optimizer, mode='min', patience=3, factor=0.5)\n"
   ]
  },
  {
   "cell_type": "code",
   "execution_count": null,
   "id": "6d76650d",
   "metadata": {},
   "outputs": [
    {
     "name": "stderr",
     "output_type": "stream",
     "text": [
      "Training Epochs:   2%|▏         | 2/100 [00:00<00:10,  9.06it/s]"
     ]
    },
    {
     "name": "stdout",
     "output_type": "stream",
     "text": [
      "Epoch [1/100] | Train Loss: 3125.2665 | Val Loss: 2764.5242\n",
      "Epoch [2/100] | Train Loss: 2943.3161 | Val Loss: 2602.7693\n"
     ]
    },
    {
     "name": "stderr",
     "output_type": "stream",
     "text": [
      "Training Epochs:   4%|▍         | 4/100 [00:00<00:09, 10.29it/s]"
     ]
    },
    {
     "name": "stdout",
     "output_type": "stream",
     "text": [
      "Epoch [3/100] | Train Loss: 2747.5025 | Val Loss: 2383.7370\n",
      "Epoch [4/100] | Train Loss: 2521.4160 | Val Loss: 2192.9615\n",
      "Epoch [5/100] | Train Loss: 2262.0947 | Val Loss: 1936.5251\n"
     ]
    },
    {
     "name": "stderr",
     "output_type": "stream",
     "text": [
      "Training Epochs:   7%|▋         | 7/100 [00:00<00:10,  9.09it/s]"
     ]
    },
    {
     "name": "stdout",
     "output_type": "stream",
     "text": [
      "Epoch [6/100] | Train Loss: 1978.1869 | Val Loss: 1722.5446\n",
      "Epoch [7/100] | Train Loss: 1703.1288 | Val Loss: 1375.2531\n",
      "Epoch [8/100] | Train Loss: 1432.1760 | Val Loss: 1267.9262\n"
     ]
    },
    {
     "name": "stderr",
     "output_type": "stream",
     "text": [
      "Training Epochs:  11%|█         | 11/100 [00:01<00:08, 10.25it/s]"
     ]
    },
    {
     "name": "stdout",
     "output_type": "stream",
     "text": [
      "Epoch [9/100] | Train Loss: 1217.2374 | Val Loss: 1060.1936\n",
      "Epoch [10/100] | Train Loss: 1041.4561 | Val Loss: 947.3244\n",
      "Epoch [11/100] | Train Loss: 941.4766 | Val Loss: 876.6549\n"
     ]
    },
    {
     "name": "stderr",
     "output_type": "stream",
     "text": [
      "Training Epochs:  13%|█▎        | 13/100 [00:01<00:07, 10.95it/s]"
     ]
    },
    {
     "name": "stdout",
     "output_type": "stream",
     "text": [
      "Epoch [12/100] | Train Loss: 875.2882 | Val Loss: 829.5372\n",
      "Epoch [13/100] | Train Loss: 843.7915 | Val Loss: 814.0421\n",
      "Epoch [14/100] | Train Loss: 837.7240 | Val Loss: 802.8355\n"
     ]
    },
    {
     "name": "stderr",
     "output_type": "stream",
     "text": [
      "Training Epochs:  17%|█▋        | 17/100 [00:01<00:07, 11.81it/s]"
     ]
    },
    {
     "name": "stdout",
     "output_type": "stream",
     "text": [
      "Epoch [15/100] | Train Loss: 813.9141 | Val Loss: 824.6891\n",
      "Epoch [16/100] | Train Loss: 801.7310 | Val Loss: 808.7831\n",
      "Epoch [17/100] | Train Loss: 789.9517 | Val Loss: 829.2032\n"
     ]
    },
    {
     "name": "stderr",
     "output_type": "stream",
     "text": [
      "Training Epochs:  19%|█▉        | 19/100 [00:01<00:06, 11.79it/s]"
     ]
    },
    {
     "name": "stdout",
     "output_type": "stream",
     "text": [
      "Epoch [18/100] | Train Loss: 797.7096 | Val Loss: 828.8041\n",
      "Epoch [19/100] | Train Loss: 800.0170 | Val Loss: 817.8433\n",
      "Epoch [20/100] | Train Loss: 791.8415 | Val Loss: 805.5097\n"
     ]
    },
    {
     "name": "stderr",
     "output_type": "stream",
     "text": [
      "Training Epochs:  23%|██▎       | 23/100 [00:02<00:06, 11.50it/s]"
     ]
    },
    {
     "name": "stdout",
     "output_type": "stream",
     "text": [
      "Epoch [21/100] | Train Loss: 789.7547 | Val Loss: 834.6476\n",
      "Epoch [22/100] | Train Loss: 789.3581 | Val Loss: 822.1708\n",
      "Epoch [23/100] | Train Loss: 788.3164 | Val Loss: 822.5419\n"
     ]
    },
    {
     "name": "stderr",
     "output_type": "stream",
     "text": [
      "Training Epochs:  25%|██▌       | 25/100 [00:02<00:06, 11.53it/s]"
     ]
    },
    {
     "name": "stdout",
     "output_type": "stream",
     "text": [
      "Epoch [24/100] | Train Loss: 782.9474 | Val Loss: 801.0751\n",
      "Epoch [25/100] | Train Loss: 803.3286 | Val Loss: 825.7647\n",
      "Epoch [26/100] | Train Loss: 797.5205 | Val Loss: 806.6680\n"
     ]
    },
    {
     "name": "stderr",
     "output_type": "stream",
     "text": [
      "Training Epochs:  29%|██▉       | 29/100 [00:02<00:06, 11.40it/s]"
     ]
    },
    {
     "name": "stdout",
     "output_type": "stream",
     "text": [
      "Epoch [27/100] | Train Loss: 785.9427 | Val Loss: 813.2915\n",
      "Epoch [28/100] | Train Loss: 772.6655 | Val Loss: 813.8949\n",
      "Epoch [29/100] | Train Loss: 782.3908 | Val Loss: 783.2615\n"
     ]
    },
    {
     "name": "stderr",
     "output_type": "stream",
     "text": [
      "Training Epochs:  31%|███       | 31/100 [00:02<00:06, 11.47it/s]"
     ]
    },
    {
     "name": "stdout",
     "output_type": "stream",
     "text": [
      "Epoch [30/100] | Train Loss: 770.2367 | Val Loss: 785.3966\n",
      "Epoch [31/100] | Train Loss: 782.7764 | Val Loss: 809.0857\n",
      "Epoch [32/100] | Train Loss: 776.2269 | Val Loss: 803.4203\n"
     ]
    },
    {
     "name": "stderr",
     "output_type": "stream",
     "text": [
      "Training Epochs:  35%|███▌      | 35/100 [00:03<00:05, 11.39it/s]"
     ]
    },
    {
     "name": "stdout",
     "output_type": "stream",
     "text": [
      "Epoch [33/100] | Train Loss: 775.9359 | Val Loss: 803.7301\n",
      "Epoch [34/100] | Train Loss: 769.3342 | Val Loss: 789.0351\n",
      "Epoch [35/100] | Train Loss: 774.5900 | Val Loss: 833.3117\n"
     ]
    },
    {
     "name": "stderr",
     "output_type": "stream",
     "text": [
      "Training Epochs:  37%|███▋      | 37/100 [00:03<00:05, 11.28it/s]"
     ]
    },
    {
     "name": "stdout",
     "output_type": "stream",
     "text": [
      "Epoch [36/100] | Train Loss: 770.3890 | Val Loss: 814.6516\n",
      "Epoch [37/100] | Train Loss: 795.8398 | Val Loss: 815.8111\n",
      "Epoch [38/100] | Train Loss: 772.0935 | Val Loss: 811.8241\n"
     ]
    },
    {
     "name": "stderr",
     "output_type": "stream",
     "text": [
      "Training Epochs:  38%|███▊      | 38/100 [00:03<00:05, 10.77it/s]"
     ]
    },
    {
     "name": "stdout",
     "output_type": "stream",
     "text": [
      "Epoch [39/100] | Train Loss: 762.7479 | Val Loss: 812.9056\n",
      "Early stopping triggered at epoch 39\n"
     ]
    },
    {
     "name": "stderr",
     "output_type": "stream",
     "text": [
      "\n"
     ]
    }
   ],
   "source": [
    "train_losses = []\n",
    "val_losses = []\n",
    "counter = 0\n",
    "\n",
    "for epoch in tqdm(range(EPOCHS), desc=\"Training Epochs\"):\n",
    "    # ---- Training ----\n",
    "    model.train()\n",
    "    train_loss = 0.0\n",
    "    \n",
    "    for batch_x, batch_y in train_loader:\n",
    "        batch_x, batch_y = batch_x.to(device), batch_y.to(device)\n",
    "        \n",
    "        optimizer.zero_grad()\n",
    "        outputs = model(batch_x)\n",
    "        loss = loss_fn(outputs, batch_y)\n",
    "        loss.backward()\n",
    "        optimizer.step()\n",
    "        \n",
    "        train_loss += loss.item() * batch_x.size(0)\n",
    "    \n",
    "    train_loss /= len(train_loader.dataset)\n",
    "    train_losses.append(train_loss)\n",
    "\n",
    "    \n",
    "    # ---- Validation ----\n",
    "    model.eval()\n",
    "    val_loss = 0.0\n",
    "\n",
    "    with torch.no_grad():\n",
    "        for val_x, val_y in val_loader:\n",
    "            val_x, val_y = val_x.to(device), val_y.to(device)\n",
    "            outputs = model(val_x)\n",
    "            val_loss += loss_fn(outputs, val_y).item() * val_x.size(0)\n",
    "\n",
    "    val_loss /= len(val_loader.dataset)\n",
    "    val_losses.append(val_loss)\n",
    "    \n",
    "    print(f\"Epoch [{epoch+1}/{EPOCHS}] | Train Loss: {train_loss:.4f} | Val Loss: {val_loss:.4f}\")\n",
    "\n",
    "    # ---- Early Stopping ----\n",
    "    if patience != 0:\n",
    "        if val_loss < best_val_loss:\n",
    "            best_val_loss = val_loss\n",
    "            counter = 0\n",
    "            best_model_state = model.state_dict()\n",
    "        else:\n",
    "            counter += 1\n",
    "            if counter >= patience:\n",
    "                print(f\"Early stopping triggered at epoch {epoch+1}\")\n",
    "                model.load_state_dict(best_model_state)\n",
    "                break\n",
    "    \n",
    "    # ---- Scheduler step ----\n",
    "    if scheduler:\n",
    "        scheduler.step(val_loss)"
   ]
  },
  {
   "cell_type": "code",
   "execution_count": 60,
   "id": "99f7f517",
   "metadata": {},
   "outputs": [
    {
     "data": {
      "image/png": "[encoded data removed]",
      "text/plain": [
       "<Figure size 1500x400 with 1 Axes>"
      ]
     },
     "metadata": {},
     "output_type": "display_data"
    }
   ],
   "source": [
    "plt.figure(figsize=(15, 4))\n",
    "plt.plot(range(1, len(train_losses)+1), train_losses, label=\"Train Loss\")\n",
    "plt.plot(range(1, len(val_losses)+1), val_losses, label=\"Validation Loss\")\n",
    "plt.xlabel(\"Epoch\")\n",
    "plt.ylabel(\"Loss\")\n",
    "plt.legend()\n",
    "plt.grid()\n",
    "plt.tight_layout()\n"
   ]
  },
  {
   "cell_type": "markdown",
   "id": "46682097",
   "metadata": {},
   "source": [
    "## Store and Load the model"
   ]
  },
  {
   "cell_type": "markdown",
   "id": "8bb86fa5",
   "metadata": {},
   "source": [
    "You have 2 ways to save your model (and trained weights):\n",
    "\n",
    "* Save **only the weights** (`model.state_dict()`) and then, to load them, you need the class definition. You can then replace the initialized weights with the saved ones using `model.load_state_dict(best_model_state)`.\n",
    "* Save **both the model and the weights** in a serialized class. You will lose information about the class definition (use this only when you need the model for inference).\n",
    "\n",
    "Make sure to be aware of the device it’s on (CPU or GPU). When loaded, the model will be placed on the same type of device, which must be available.\n"
   ]
  },
  {
   "cell_type": "code",
   "execution_count": null,
   "id": "08643d6b",
   "metadata": {},
   "outputs": [],
   "source": [
    "torch.save(model.to(\"cpu\"), 'model.pth')"
   ]
  },
  {
   "cell_type": "code",
   "execution_count": 92,
   "id": "3ccfea3c",
   "metadata": {},
   "outputs": [
    {
     "name": "stdout",
     "output_type": "stream",
     "text": [
      "Model:\n",
      " NeuralNetwork(\n",
      "  (residual): Linear(in_features=3, out_features=256, bias=True)\n",
      "  (features_extraction): Sequential(\n",
      "    (0): Linear(in_features=3, out_features=64, bias=True)\n",
      "    (1): ReLU()\n",
      "    (2): BatchNorm1d(64, eps=1e-05, momentum=0.1, affine=True, track_running_stats=True)\n",
      "    (3): Dropout(p=0.1, inplace=False)\n",
      "    (4): Linear(in_features=64, out_features=128, bias=True)\n",
      "    (5): ReLU()\n",
      "    (6): BatchNorm1d(128, eps=1e-05, momentum=0.1, affine=True, track_running_stats=True)\n",
      "    (7): Dropout(p=0.1, inplace=False)\n",
      "    (8): Linear(in_features=128, out_features=256, bias=True)\n",
      "    (9): ReLU()\n",
      "    (10): BatchNorm1d(256, eps=1e-05, momentum=0.1, affine=True, track_running_stats=True)\n",
      "    (11): Dropout(p=0.1, inplace=False)\n",
      "  )\n",
      "  (head): Sequential(\n",
      "    (0): Linear(in_features=256, out_features=1, bias=True)\n",
      "  )\n",
      ")\n",
      "Model Loaded on Device:cpu\n"
     ]
    }
   ],
   "source": [
    "loaded_model = torch.load('model.pth', weights_only=False)\n",
    "\n",
    "print(f\"Model:\\n {loaded_model}\")\n",
    "\n",
    "device = next(model.parameters()).device\n",
    "print(f\"Model Loaded on Device:{device}\")"
   ]
  },
  {
   "cell_type": "markdown",
   "id": "de6ceca7",
   "metadata": {},
   "source": [
    "\n",
    "* **PyTorch models expect the first dimension to represent the batch size.** Even when using a single sample, the input must include this batch dimension. Therefore, if your input is a vector with `n_features`, the input tensor should have shape `(n_samples, n_features)`.\n",
    "\n",
    "* **The model output mirrors this batch dimension.** For `n_samples` inputs and `n_targets` outputs per sample, the returned tensor will have shape `(n_samples, n_targets)`.\n"
   ]
  },
  {
   "cell_type": "code",
   "execution_count": 93,
   "id": "6784ea1a",
   "metadata": {},
   "outputs": [
    {
     "name": "stdout",
     "output_type": "stream",
     "text": [
      "Input: tensor([[-1.3938,  0.2604,  0.4190]]) \tshape:torch.Size([1, 3])\n",
      "tensor([[45.6505]])\n"
     ]
    }
   ],
   "source": [
    "X = torch.Tensor([features_test[0]])# .to(\"cpu\")\n",
    "print (f\"Input: {X} \\tshape:{X.shape}\")\n",
    "\n",
    "with torch.no_grad():\n",
    "    y = loaded_model(X)\n",
    "\n",
    "print(y)"
   ]
  }
 ],
 "metadata": {
  "kernelspec": {
   "display_name": "pyBetting",
   "language": "python",
   "name": "python3"
  },
  "language_info": {
   "codemirror_mode": {
    "name": "ipython",
    "version": 3
   },
   "file_extension": ".py",
   "mimetype": "text/x-python",
   "name": "python",
   "nbconvert_exporter": "python",
   "pygments_lexer": "ipython3",
   "version": "3.10.18"
  }
 },
 "nbformat": 4,
 "nbformat_minor": 5
}
